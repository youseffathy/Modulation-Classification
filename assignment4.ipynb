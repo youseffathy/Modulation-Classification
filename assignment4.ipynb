{
  "nbformat": 4,
  "nbformat_minor": 0,
  "metadata": {
    "accelerator": "GPU",
    "colab": {
      "name": "assignment4.ipynb",
      "provenance": [],
      "collapsed_sections": [
        "3iyLJt1NnVw3",
        "nivrnsl5nY43",
        "I-xQXLREghBY",
        "FPqi4auhnlyK",
        "gu0ECdJAoK3-",
        "GEZDEOPYoZVD",
        "nL8Eq_oPogf2",
        "e39eNiqi3ZhJ",
        "tt7w4CAo4V9q"
      ]
    },
    "kernelspec": {
      "display_name": "Python 3",
      "name": "python3"
    }
  },
  "cells": [
    {
      "cell_type": "code",
      "metadata": {
        "id": "qGvZpXVdzYZo"
      },
      "source": [
        "#import shutil\r\n",
        "#shutil.unpack_archive(\"/content/drive/MyDrive/RML2016.10b.tar.bz2\",\"/content/drive/MyDrive/AI_assignment4/Data/\")"
      ],
      "execution_count": null,
      "outputs": []
    },
    {
      "cell_type": "code",
      "metadata": {
        "colab": {
          "base_uri": "https://localhost:8080/"
        },
        "id": "B4FrWfZl8g3c",
        "outputId": "a0f4cabf-076c-42c9-de71-0f5d57e32ef6"
      },
      "source": [
        "from google.colab import drive\r\n",
        "drive.mount('/content/drive')"
      ],
      "execution_count": null,
      "outputs": [
        {
          "output_type": "stream",
          "text": [
            "Mounted at /content/drive\n"
          ],
          "name": "stdout"
        }
      ]
    },
    {
      "cell_type": "markdown",
      "metadata": {
        "id": "3iyLJt1NnVw3"
      },
      "source": [
        "# Imports"
      ]
    },
    {
      "cell_type": "code",
      "metadata": {
        "id": "D8vKrQp6_iX4"
      },
      "source": [
        "%matplotlib inline\r\n",
        "import os,random\r\n",
        "os.environ[\"KERAS_BACKEND\"] = \"theano\"\r\n",
        "os.environ[\"THEANO_FLAGS\"]  = \"device=gpu%d\"%(1)\r\n",
        "# imports cell\r\n",
        "import numpy as np\r\n",
        "import scipy as sp\r\n",
        "import keras\r\n",
        "import tensorflow as tf\r\n",
        "import _pickle as cPickle\r\n",
        "import matplotlib.pyplot as plt\r\n",
        "import sys \r\n",
        "import gc\r\n",
        "\r\n",
        "#-----------------------------------\r\n",
        "from sklearn.linear_model import LogisticRegression\r\n",
        "from sklearn import tree\r\n",
        "from sklearn.ensemble import RandomForestClassifier\r\n",
        "from pandas import DataFrame as df\r\n",
        "\r\n",
        "# Deep Learning libs\r\n",
        "from tensorflow.keras.models import Sequential\r\n",
        "from tensorflow.keras.layers import Dense,Activation,Flatten,Conv2D,Reshape,Dropout,MaxPooling2D,BatchNormalization\r\n",
        "from tensorflow.keras import regularizers\r\n",
        "from tensorflow.keras.callbacks import EarlyStopping, ModelCheckpoint\r\n",
        "import matplotlib.pyplot as plt\r\n",
        "\r\n",
        "\r\n",
        "from sklearn.preprocessing import LabelBinarizer as LB\r\n",
        "from sklearn.preprocessing import normalize \r\n",
        "from sklearn.metrics import confusion_matrix\r\n",
        "from sklearn.metrics import accuracy_score\r\n"
      ],
      "execution_count": null,
      "outputs": []
    },
    {
      "cell_type": "markdown",
      "metadata": {
        "id": "nivrnsl5nY43"
      },
      "source": [
        "# reading file and separate data to X and Y"
      ]
    },
    {
      "cell_type": "code",
      "metadata": {
        "id": "EniO4Rmi_m6E"
      },
      "source": [
        "filename = \"/content/drive/MyDrive/AI_assignment4/Data/RML2016.10b.dat\"\r\n",
        "open_file = open(filename,'rb')\r\n",
        "Xd = cPickle.load(open_file, encoding='latin1')"
      ],
      "execution_count": null,
      "outputs": []
    },
    {
      "cell_type": "code",
      "metadata": {
        "colab": {
          "base_uri": "https://localhost:8080/"
        },
        "id": "IdCBZPrP65ml",
        "outputId": "dbfb317d-6f39-457f-95e7-18b5776be2a7"
      },
      "source": [
        "snrs, mods = map(lambda j: sorted(list(set(map(lambda x: x[j], Xd.keys())))), [1,0])\r\n",
        "X = [] \r\n",
        "lbl = []\r\n",
        "for mod in mods:\r\n",
        "    for snr in snrs:\r\n",
        "        X.append(Xd[(mod,snr)])\r\n",
        "        for i in range(Xd[(mod,snr)].shape[0]):  lbl.append((mod,snr))\r\n",
        "X = np.vstack(X)\r\n",
        "open_file.close()\r\n",
        "labels = np.array(lbl)\r\n",
        "del(lbl)\r\n",
        "gc.collect()"
      ],
      "execution_count": null,
      "outputs": [
        {
          "output_type": "execute_result",
          "data": {
            "text/plain": [
              "11"
            ]
          },
          "metadata": {
            "tags": []
          },
          "execution_count": 3
        }
      ]
    },
    {
      "cell_type": "markdown",
      "metadata": {
        "id": "I-xQXLREghBY"
      },
      "source": [
        "# Define different feature samples "
      ]
    },
    {
      "cell_type": "code",
      "metadata": {
        "id": "GUbuRQ9c15EJ",
        "colab": {
          "base_uri": "https://localhost:8080/",
          "height": 239
        },
        "outputId": "b0318681-33de-47e4-f4f7-6b2d2aa7b2fb"
      },
      "source": [
        "features = {}\r\n",
        "features['raw']        = X[:,0], X[:,1]\r\n",
        "features['derivative'] = normalize(np.gradient(X[:,0], axis = 1)), normalize(np.gradient(X[:,1], axis = 1))\r\n",
        "features['integral']   = normalize(np.cumsum(X[:,0], axis = 1)), normalize(np.cumsum(X[:,1], axis = 1))\r\n",
        "del(X)\r\n",
        "gc.collect()\r\n",
        "def extract_features(*arguments):\r\n",
        "  desired = ()            \r\n",
        "  for arg in arguments:\r\n",
        "      desired += features[arg]\r\n",
        "  return np.stack(desired, axis = 1)"
      ],
      "execution_count": null,
      "outputs": [
        {
          "output_type": "error",
          "ename": "NameError",
          "evalue": "ignored",
          "traceback": [
            "\u001b[0;31m---------------------------------------------------------------------------\u001b[0m",
            "\u001b[0;31mNameError\u001b[0m                                 Traceback (most recent call last)",
            "\u001b[0;32m<ipython-input-12-f171e14cb94e>\u001b[0m in \u001b[0;36m<module>\u001b[0;34m()\u001b[0m\n\u001b[1;32m      1\u001b[0m \u001b[0mfeatures\u001b[0m \u001b[0;34m=\u001b[0m \u001b[0;34m{\u001b[0m\u001b[0;34m}\u001b[0m\u001b[0;34m\u001b[0m\u001b[0;34m\u001b[0m\u001b[0m\n\u001b[0;32m----> 2\u001b[0;31m \u001b[0mfeatures\u001b[0m\u001b[0;34m[\u001b[0m\u001b[0;34m'raw'\u001b[0m\u001b[0;34m]\u001b[0m        \u001b[0;34m=\u001b[0m \u001b[0mX\u001b[0m\u001b[0;34m[\u001b[0m\u001b[0;34m:\u001b[0m\u001b[0;34m,\u001b[0m\u001b[0;36m0\u001b[0m\u001b[0;34m]\u001b[0m\u001b[0;34m,\u001b[0m \u001b[0mX\u001b[0m\u001b[0;34m[\u001b[0m\u001b[0;34m:\u001b[0m\u001b[0;34m,\u001b[0m\u001b[0;36m1\u001b[0m\u001b[0;34m]\u001b[0m\u001b[0;34m\u001b[0m\u001b[0;34m\u001b[0m\u001b[0m\n\u001b[0m\u001b[1;32m      3\u001b[0m \u001b[0;31m#features['derivative'] = normalize(np.gradient(X[:,0], axis = 1)), normalize(np.gradient(X[:,1], axis = 1))\u001b[0m\u001b[0;34m\u001b[0m\u001b[0;34m\u001b[0m\u001b[0;34m\u001b[0m\u001b[0m\n\u001b[1;32m      4\u001b[0m \u001b[0mfeatures\u001b[0m\u001b[0;34m[\u001b[0m\u001b[0;34m'integral'\u001b[0m\u001b[0;34m]\u001b[0m   \u001b[0;34m=\u001b[0m \u001b[0mnormalize\u001b[0m\u001b[0;34m(\u001b[0m\u001b[0mnp\u001b[0m\u001b[0;34m.\u001b[0m\u001b[0mcumsum\u001b[0m\u001b[0;34m(\u001b[0m\u001b[0mX\u001b[0m\u001b[0;34m[\u001b[0m\u001b[0;34m:\u001b[0m\u001b[0;34m,\u001b[0m\u001b[0;36m0\u001b[0m\u001b[0;34m]\u001b[0m\u001b[0;34m,\u001b[0m \u001b[0maxis\u001b[0m \u001b[0;34m=\u001b[0m \u001b[0;36m1\u001b[0m\u001b[0;34m)\u001b[0m\u001b[0;34m)\u001b[0m\u001b[0;34m,\u001b[0m \u001b[0mnormalize\u001b[0m\u001b[0;34m(\u001b[0m\u001b[0mnp\u001b[0m\u001b[0;34m.\u001b[0m\u001b[0mcumsum\u001b[0m\u001b[0;34m(\u001b[0m\u001b[0mX\u001b[0m\u001b[0;34m[\u001b[0m\u001b[0;34m:\u001b[0m\u001b[0;34m,\u001b[0m\u001b[0;36m1\u001b[0m\u001b[0;34m]\u001b[0m\u001b[0;34m,\u001b[0m \u001b[0maxis\u001b[0m \u001b[0;34m=\u001b[0m \u001b[0;36m1\u001b[0m\u001b[0;34m)\u001b[0m\u001b[0;34m)\u001b[0m\u001b[0;34m\u001b[0m\u001b[0;34m\u001b[0m\u001b[0m\n\u001b[1;32m      5\u001b[0m \u001b[0;32mdel\u001b[0m\u001b[0;34m(\u001b[0m\u001b[0mX\u001b[0m\u001b[0;34m)\u001b[0m\u001b[0;34m\u001b[0m\u001b[0;34m\u001b[0m\u001b[0m\n",
            "\u001b[0;31mNameError\u001b[0m: name 'X' is not defined"
          ]
        }
      ]
    },
    {
      "cell_type": "markdown",
      "metadata": {
        "id": "FPqi4auhnlyK"
      },
      "source": [
        "# split data into train and test using indeces"
      ]
    },
    {
      "cell_type": "code",
      "metadata": {
        "id": "SmzDIGqh4CLM"
      },
      "source": [
        "def split_data(data):\r\n",
        "  np.random.seed(10)\r\n",
        "  n_examples = labels.shape[0]\r\n",
        "  r = np.random.choice(range(n_examples), n_examples, replace = False)\r\n",
        "  train_examples = r[:int(n_examples * (3/4))]\r\n",
        "  test_examples =  r[int(n_examples * (3/4)):]\r\n",
        "  X_train = data[train_examples]\r\n",
        "  X_test = data[test_examples]\r\n",
        "  y_train = LB().fit_transform(labels[train_examples][:,0])\r\n",
        "  y_test = LB().fit_transform(labels[test_examples][:,0])\r\n",
        "  snr_train = labels[train_examples][:,1].astype(int)\r\n",
        "  snr_test = labels[test_examples][:,1].astype(int)\r\n",
        "\r\n",
        "  del(train_examples)\r\n",
        "  del(test_examples)\r\n",
        "  gc.collect()\r\n",
        "  \r\n",
        "  return X_train, X_test, y_train, y_test, snr_train, snr_test\r\n"
      ],
      "execution_count": null,
      "outputs": []
    },
    {
      "cell_type": "markdown",
      "metadata": {
        "id": "gu0ECdJAoK3-"
      },
      "source": [
        "# First three Classifiers"
      ]
    },
    {
      "cell_type": "code",
      "metadata": {
        "id": "YQ1okZoV1WZi"
      },
      "source": [
        "def classifier(classifier_type, X_train, X_test, y_train, y_test):\r\n",
        "  if classifier_type == \"logistic_regression_classifier\":\r\n",
        "    clf = LogisticRegression()\r\n",
        "  elif classifier_type == \"Decision_Tree_classifier\":\r\n",
        "    clf = tree.DecisionTreeClassifier(max_depth=10)\r\n",
        "  elif  classifier_type == \"Random_Forest_classifier\":\r\n",
        "    clf = RandomForestClassifier(max_depth=10)\r\n",
        "  clf = clf.fit(X_train.reshape(X_train.shape[0], X_train.shape[1] *  X_train.shape[2]), y_train[:,0])\r\n",
        "  acc = clf.score(X_test.reshape(X_test.shape[0], X_train.shape[1] *  X_train.shape[2]), y_test[:,0])\r\n",
        "  del(clf)\r\n",
        "  gc.collect()\r\n",
        "  return acc"
      ],
      "execution_count": null,
      "outputs": []
    },
    {
      "cell_type": "markdown",
      "metadata": {
        "id": "GEZDEOPYoZVD"
      },
      "source": [
        "# Fully connected dense layer classifier"
      ]
    },
    {
      "cell_type": "code",
      "metadata": {
        "id": "7xpMf_IaDRbu"
      },
      "source": [
        "def build_fc_model(in_shape):\r\n",
        "  model = Sequential()\r\n",
        "  model.add(Dense(128, activation ='relu', input_shape = in_shape))\r\n",
        "  model.add(Dense(256, activation ='relu'))\r\n",
        "  model.add(Dense(128, activation ='relu'))\r\n",
        "  model.add(Flatten())\r\n",
        "  model.add(Dense(10, activation ='softmax'))\r\n",
        "  model.compile(loss='categorical_crossentropy', optimizer='adam', metrics=['accuracy'])\r\n",
        "  model.summary()\r\n",
        "  return model\r\n",
        "\r\n",
        "def train_fc_model(X_train,  y_train, filePath):\r\n",
        "  filepath = 'fnn_best_wights.h5'\r\n",
        "  model = build_fc_model(X_train[0].shape)\r\n",
        "  es = EarlyStopping(monitor=\"val_loss\", mode='min', restore_best_weights = True, verbose=1, patience = 20 )\r\n",
        "  cp = ModelCheckpoint(filepath=filePath, monitor='val_loss', mode='min', save_best_only=True, verbose=1)\r\n",
        "  history = model.fit(X_train, y_train, batch_size=1024, epochs=100, validation_split=0.05 ,callbacks=[cp, es])\r\n",
        "  return model"
      ],
      "execution_count": null,
      "outputs": []
    },
    {
      "cell_type": "markdown",
      "metadata": {
        "id": "nL8Eq_oPogf2"
      },
      "source": [
        "# Convolutional neural network classifier"
      ]
    },
    {
      "cell_type": "code",
      "metadata": {
        "id": "JG1q_1J8If8f"
      },
      "source": [
        "def build_cnn_model(input_shape):\r\n",
        "  model = Sequential()\r\n",
        "  model.add(Reshape(input_shape=input_shape, target_shape=(input_shape[0], input_shape[1], 1)))\r\n",
        "  model.add(Conv2D(64, (1, 3), activation='relu'))\r\n",
        "  model.add(Conv2D(16, (2, 3), activation='relu'))\r\n",
        "  model.add(Flatten())\r\n",
        "  model.add(Dense(128, activation='relu'))\r\n",
        "  model.add(Dense(10, activation='softmax'))\r\n",
        "  model.compile(loss='categorical_crossentropy', optimizer='adam', metrics=['accuracy'])\r\n",
        "  model.summary()\r\n",
        "  return model\r\n",
        "\r\n",
        "def train_cnn_model(X_train,  y_train, filePath):\r\n",
        "  filepath = 'cnn_best_wieghts.h5'\r\n",
        "  model = build_cnn_model(X_train[0].shape)\r\n",
        "  es = EarlyStopping(monitor=\"val_loss\", mode='min', restore_best_weights = True, verbose=1, patience = 20 )\r\n",
        "  cp = ModelCheckpoint(filepath=filePath, monitor='val_loss', mode='min', save_best_only=True, verbose=1)\r\n",
        "  history = model.fit(X_train, y_train, batch_size=1024, epochs=80, validation_split=0.05 ,callbacks=[cp, es])\r\n",
        "  return model\r\n",
        "\r\n"
      ],
      "execution_count": null,
      "outputs": []
    },
    {
      "cell_type": "markdown",
      "metadata": {
        "id": "FN_3zpL8BQbp"
      },
      "source": [
        "# Evaluation"
      ]
    },
    {
      "cell_type": "code",
      "metadata": {
        "id": "iblscJZSBSr5"
      },
      "source": [
        "def plot_results(predicted_labels, true_labels, snrs):\r\n",
        "  sorted_snrs = np.sort(np.unique(snrs))\r\n",
        "  x_axis = []\r\n",
        "  y_axis = []\r\n",
        "  for snr in sorted_snrs:\r\n",
        "    idx = np.where(snrs == snr)\r\n",
        "    #print('snr =', snr, '-->', accuracy_score(np.argmax(true_labels[idx], axis = 1), np.argmax(predicted_labels[idx], axis = 1)))\r\n",
        "    x_axis.append(snr)\r\n",
        "    y_axis.append(accuracy_score(np.argmax(true_labels[idx], axis = 1), np.argmax(predicted_labels[idx], axis = 1)))\r\n",
        "  \r\n",
        "  plt.xlabel('SNR')\r\n",
        "  plt.ylabel('Accuracy')\r\n",
        "  plt.title('Classification Accuracy over different SNRs')\r\n",
        "  plt.plot(x_axis, np.array(y_axis) * 100, 'ro--')\r\n",
        "  plt.grid(True)"
      ],
      "execution_count": null,
      "outputs": []
    },
    {
      "cell_type": "code",
      "metadata": {
        "id": "wESZcfEDBiZE"
      },
      "source": [
        "def print_results(predicted_labels, true_labels, snrs):\r\n",
        "  \r\n",
        "  sorted_snrs = np.sort(np.unique(snrs))\r\n",
        "  \r\n",
        "  x_axis = []\r\n",
        "  y_axis = []\r\n",
        "  for snr in sorted_snrs:\r\n",
        "    idx = np.where(snrs == snr)\r\n",
        "    #print('snr =', snr, '-->', accuracy_score(np.argmax(true_labels[idx], axis = 1), np.argmax(predicted_labels[idx], axis = 1)))\r\n",
        "    x_axis.append(snr)\r\n",
        "    y_axis.append(accuracy_score(np.argmax(true_labels[idx], axis = 1), np.argmax(predicted_labels[idx], axis = 1)))\r\n",
        "  \r\n",
        "  return df(data = np.array(y_axis).reshape(1, -1) * 100,  columns = sorted_snrs, index = ['accuracy']).round(2)"
      ],
      "execution_count": null,
      "outputs": []
    },
    {
      "cell_type": "code",
      "metadata": {
        "id": "gm0qAaQFBkYC"
      },
      "source": [
        "def plot_confusion_matrix(y_true, y_pred, classes, cmap=plt.cm.Blues):\r\n",
        "  y_true, y_pred = np.argmax(y_true, axis = 1), np.argmax(y_pred, axis = 1)\r\n",
        "  cm = confusion_matrix(y_true, y_pred)\r\n",
        "  cm = cm.astype('float') / cm.sum(axis=1)[:, np.newaxis]\r\n",
        "  fig, ax = plt.subplots()\r\n",
        "  im = ax.imshow(cm, interpolation='nearest', cmap=cmap)\r\n",
        "  ax.figure.colorbar(im, ax=ax)\r\n",
        "  # We want to show all ticks...\r\n",
        "  ax.set(xticks=np.arange(cm.shape[1]),\r\n",
        "         yticks=np.arange(cm.shape[0]),\r\n",
        "         # ... and label them with the respective list entries\r\n",
        "         xticklabels=classes, yticklabels=classes,\r\n",
        "         title = 'Confusion Matrix',\r\n",
        "         ylabel = 'True label',\r\n",
        "         xlabel = 'Predicted label')\r\n",
        "\r\n",
        "  # Rotate the tick labels and set their alignment.\r\n",
        "  plt.setp(ax.get_xticklabels(), rotation=45, ha=\"right\",\r\n",
        "           rotation_mode=\"anchor\")"
      ],
      "execution_count": null,
      "outputs": []
    },
    {
      "cell_type": "markdown",
      "metadata": {
        "id": "bv91289lfIUW"
      },
      "source": [
        "# Work on data"
      ]
    },
    {
      "cell_type": "code",
      "metadata": {
        "id": "Huho1qnMT0pk"
      },
      "source": [
        "def work_on_data( X_train, X_test, y_train, y_test):\r\n",
        "  #logistic regression classifier\r\n",
        "  acc = classifier(\"logistic_regression_classifier\",X_train, X_test, y_train, y_test)\r\n",
        "  print(\"logistic regression classifier acc =\", acc)\r\n",
        "\r\n",
        "  #Decision Tree classifier\r\n",
        "  acc = classifier(\"Decision_Tree_classifier\",X_train, X_test, y_train, y_test)\r\n",
        "  print(\"Decision Tree classifier acc =\", acc)\r\n",
        "\r\n",
        "  #Random Forest classifier\r\n",
        "  acc = classifier(\"Random_Forest_classifier\",X_train, X_test, y_train, y_test)\r\n",
        "  print(\"Random Forest classifier acc =\", acc)\r\n",
        "\r\n",
        "  gc.collect()"
      ],
      "execution_count": null,
      "outputs": []
    },
    {
      "cell_type": "markdown",
      "metadata": {
        "id": "mIe-tg8-YOSq"
      },
      "source": [
        "# testing"
      ]
    },
    {
      "cell_type": "markdown",
      "metadata": {
        "id": "fLvmhlPT1mGl"
      },
      "source": [
        "## Test raw data"
      ]
    },
    {
      "cell_type": "code",
      "metadata": {
        "id": "d8hmd_102uZn"
      },
      "source": [
        "  raw_data = extract_features('raw')\r\n",
        "  X_train, X_test, y_train, y_test, snr_train, snr_test = split_data(raw_data)  "
      ],
      "execution_count": null,
      "outputs": []
    },
    {
      "cell_type": "code",
      "metadata": {
        "colab": {
          "base_uri": "https://localhost:8080/"
        },
        "id": "pUdOCPLtTRED",
        "outputId": "831e1daf-c651-4243-f7df-a8b02d22ce0b"
      },
      "source": [
        "work_on_data( X_train, X_test, y_train, y_test)"
      ],
      "execution_count": null,
      "outputs": [
        {
          "output_type": "stream",
          "text": [
            "logistic regression classifier acc = 0.90004\n",
            "Decision Tree classifier acc = 0.89924\n",
            "Random Forest classifier acc = 0.90004\n"
          ],
          "name": "stdout"
        }
      ]
    },
    {
      "cell_type": "code",
      "metadata": {
        "colab": {
          "base_uri": "https://localhost:8080/",
          "height": 676
        },
        "id": "YgzRWf9E2FAB",
        "outputId": "5e4f1f7b-7b1c-44cb-862a-16f120e63314"
      },
      "source": [
        "print(\"Fully connected classifier\")\r\n",
        "checkpoint_dir = os.path.dirname(\"/content/drive/MyDrive/AI_assignment4/models/rawModels/fc_model/model.h5\")\r\n",
        "#fc_model = train_fc_model(X_train, y_train, checkpoint_dir)\r\n",
        "fc_model = keras.models.load_model(checkpoint_dir)\r\n",
        "y_pred_ann = fc_model.predict(X_test)\r\n",
        "plot_results(y_pred_ann, y_test, snr_test)\r\n",
        "plot_confusion_matrix(y_test, y_pred_ann, mods)\r\n",
        "print_results(y_pred_ann, y_test, snr_test)\r\n"
      ],
      "execution_count": null,
      "outputs": [
        {
          "output_type": "stream",
          "text": [
            "Fully connected classifier\n"
          ],
          "name": "stdout"
        },
        {
          "output_type": "execute_result",
          "data": {
            "text/html": [
              "<div>\n",
              "<style scoped>\n",
              "    .dataframe tbody tr th:only-of-type {\n",
              "        vertical-align: middle;\n",
              "    }\n",
              "\n",
              "    .dataframe tbody tr th {\n",
              "        vertical-align: top;\n",
              "    }\n",
              "\n",
              "    .dataframe thead th {\n",
              "        text-align: right;\n",
              "    }\n",
              "</style>\n",
              "<table border=\"1\" class=\"dataframe\">\n",
              "  <thead>\n",
              "    <tr style=\"text-align: right;\">\n",
              "      <th></th>\n",
              "      <th>-20</th>\n",
              "      <th>-18</th>\n",
              "      <th>-16</th>\n",
              "      <th>-14</th>\n",
              "      <th>-12</th>\n",
              "      <th>-10</th>\n",
              "      <th>-8</th>\n",
              "      <th>-6</th>\n",
              "      <th>-4</th>\n",
              "      <th>-2</th>\n",
              "      <th>0</th>\n",
              "      <th>2</th>\n",
              "      <th>4</th>\n",
              "      <th>6</th>\n",
              "      <th>8</th>\n",
              "      <th>10</th>\n",
              "      <th>12</th>\n",
              "      <th>14</th>\n",
              "      <th>16</th>\n",
              "      <th>18</th>\n",
              "    </tr>\n",
              "  </thead>\n",
              "  <tbody>\n",
              "    <tr>\n",
              "      <th>accuracy</th>\n",
              "      <td>10.46</td>\n",
              "      <td>10.54</td>\n",
              "      <td>12.01</td>\n",
              "      <td>14.35</td>\n",
              "      <td>18.95</td>\n",
              "      <td>24.68</td>\n",
              "      <td>32.43</td>\n",
              "      <td>40.76</td>\n",
              "      <td>51.32</td>\n",
              "      <td>60.97</td>\n",
              "      <td>66.78</td>\n",
              "      <td>72.07</td>\n",
              "      <td>74.75</td>\n",
              "      <td>76.1</td>\n",
              "      <td>75.49</td>\n",
              "      <td>76.34</td>\n",
              "      <td>76.44</td>\n",
              "      <td>75.82</td>\n",
              "      <td>75.3</td>\n",
              "      <td>75.78</td>\n",
              "    </tr>\n",
              "  </tbody>\n",
              "</table>\n",
              "</div>"
            ],
            "text/plain": [
              "            -20    -18    -16    -14    -12  ...     10     12     14    16     18\n",
              "accuracy  10.46  10.54  12.01  14.35  18.95  ...  76.34  76.44  75.82  75.3  75.78\n",
              "\n",
              "[1 rows x 20 columns]"
            ]
          },
          "metadata": {
            "tags": []
          },
          "execution_count": 16
        },
        {
          "output_type": "display_data",
          "data": {
            "image/png": "[encoded data removed]",
            "text/plain": [
              "<Figure size 432x288 with 1 Axes>"
            ]
          },
          "metadata": {
            "tags": []
          }
        },
        {
          "output_type": "display_data",
          "data": {
            "image/png": "[encoded data removed]",
            "text/plain": [
              "<Figure size 432x288 with 2 Axes>"
            ]
          },
          "metadata": {
            "tags": []
          }
        }
      ]
    },
    {
      "cell_type": "code",
      "metadata": {
        "colab": {
          "base_uri": "https://localhost:8080/",
          "height": 659
        },
        "id": "2i8iDfrL1qKm",
        "outputId": "c24a5f48-703b-45ce-9a75-6ac5b975c952"
      },
      "source": [
        "checkpoint_path = \"/content/drive/MyDrive/AI_assignment4/models/rawModels/cnn_model/model.h5\"\r\n",
        "checkpoint_dir = os.path.dirname(checkpoint_path)\r\n",
        "cnn_model = keras.models.load_model(checkpoint_dir)\r\n",
        "y_pred_cnn = fcmodels.predict(X_test)\r\n",
        "plot_results(y_pred_cnn, y_test, snr_test)\r\n",
        "plot_confusion_matrix(y_test, y_pred_cnn, mods)\r\n",
        "print_results(y_pred_cnn, y_test, snr_test)"
      ],
      "execution_count": null,
      "outputs": [
        {
          "output_type": "execute_result",
          "data": {
            "text/html": [
              "<div>\n",
              "<style scoped>\n",
              "    .dataframe tbody tr th:only-of-type {\n",
              "        vertical-align: middle;\n",
              "    }\n",
              "\n",
              "    .dataframe tbody tr th {\n",
              "        vertical-align: top;\n",
              "    }\n",
              "\n",
              "    .dataframe thead th {\n",
              "        text-align: right;\n",
              "    }\n",
              "</style>\n",
              "<table border=\"1\" class=\"dataframe\">\n",
              "  <thead>\n",
              "    <tr style=\"text-align: right;\">\n",
              "      <th></th>\n",
              "      <th>-20</th>\n",
              "      <th>-18</th>\n",
              "      <th>-16</th>\n",
              "      <th>-14</th>\n",
              "      <th>-12</th>\n",
              "      <th>-10</th>\n",
              "      <th>-8</th>\n",
              "      <th>-6</th>\n",
              "      <th>-4</th>\n",
              "      <th>-2</th>\n",
              "      <th>0</th>\n",
              "      <th>2</th>\n",
              "      <th>4</th>\n",
              "      <th>6</th>\n",
              "      <th>8</th>\n",
              "      <th>10</th>\n",
              "      <th>12</th>\n",
              "      <th>14</th>\n",
              "      <th>16</th>\n",
              "      <th>18</th>\n",
              "    </tr>\n",
              "  </thead>\n",
              "  <tbody>\n",
              "    <tr>\n",
              "      <th>accuracy</th>\n",
              "      <td>10.66</td>\n",
              "      <td>10.69</td>\n",
              "      <td>11.98</td>\n",
              "      <td>13.4</td>\n",
              "      <td>18.18</td>\n",
              "      <td>25.29</td>\n",
              "      <td>35.52</td>\n",
              "      <td>47.31</td>\n",
              "      <td>60.0</td>\n",
              "      <td>70.76</td>\n",
              "      <td>77.86</td>\n",
              "      <td>80.52</td>\n",
              "      <td>81.56</td>\n",
              "      <td>82.16</td>\n",
              "      <td>82.38</td>\n",
              "      <td>82.42</td>\n",
              "      <td>82.67</td>\n",
              "      <td>82.44</td>\n",
              "      <td>81.83</td>\n",
              "      <td>82.21</td>\n",
              "    </tr>\n",
              "  </tbody>\n",
              "</table>\n",
              "</div>"
            ],
            "text/plain": [
              "            -20    -18    -16   -14    -12  ...     10     12     14     16     18\n",
              "accuracy  10.66  10.69  11.98  13.4  18.18  ...  82.42  82.67  82.44  81.83  82.21\n",
              "\n",
              "[1 rows x 20 columns]"
            ]
          },
          "metadata": {
            "tags": []
          },
          "execution_count": 17
        },
        {
          "output_type": "display_data",
          "data": {
            "image/png": "[encoded data removed]",
            "text/plain": [
              "<Figure size 432x288 with 1 Axes>"
            ]
          },
          "metadata": {
            "tags": []
          }
        },
        {
          "output_type": "display_data",
          "data": {
            "image/png": "[encoded data removed]",
            "text/plain": [
              "<Figure size 432x288 with 2 Axes>"
            ]
          },
          "metadata": {
            "tags": []
          }
        }
      ]
    },
    {
      "cell_type": "code",
      "metadata": {
        "id": "6x5CsXe42zD8"
      },
      "source": [
        "del(fc_model)\r\n",
        "del(y_pred_ann)\r\n",
        "del(cnn_model)\r\n",
        "del(y_pred_cnn)\r\n",
        "del(X_train)\r\n",
        "del(X_test)\r\n",
        "del(y_test)\r\n",
        "del(y_train)\r\n",
        "del(raw_data)\r\n",
        "gc.collect()"
      ],
      "execution_count": null,
      "outputs": []
    },
    {
      "cell_type": "markdown",
      "metadata": {
        "id": "e39eNiqi3ZhJ"
      },
      "source": [
        "## test derivative data"
      ]
    },
    {
      "cell_type": "code",
      "metadata": {
        "id": "RXaqvTHT3biC"
      },
      "source": [
        "der_data = extract_features('derivative')\r\n",
        "X_train, X_test, y_train, y_test, snr_train, snr_test = split_data(der_data)  "
      ],
      "execution_count": null,
      "outputs": []
    },
    {
      "cell_type": "code",
      "metadata": {
        "colab": {
          "base_uri": "https://localhost:8080/"
        },
        "id": "2pCsl-14UDv-",
        "outputId": "23ab583e-d1f4-4683-d8c7-2a7d61d6a97d"
      },
      "source": [
        "work_on_data(X_train, X_test, y_train, y_test)"
      ],
      "execution_count": null,
      "outputs": [
        {
          "output_type": "stream",
          "text": [
            "/usr/local/lib/python3.6/dist-packages/sklearn/linear_model/_logistic.py:940: ConvergenceWarning: lbfgs failed to converge (status=1):\n",
            "STOP: TOTAL NO. of ITERATIONS REACHED LIMIT.\n",
            "\n",
            "Increase the number of iterations (max_iter) or scale the data as shown in:\n",
            "    https://scikit-learn.org/stable/modules/preprocessing.html\n",
            "Please also refer to the documentation for alternative solver options:\n",
            "    https://scikit-learn.org/stable/modules/linear_model.html#logistic-regression\n",
            "  extra_warning_msg=_LOGISTIC_SOLVER_CONVERGENCE_MSG)\n"
          ],
          "name": "stderr"
        },
        {
          "output_type": "stream",
          "text": [
            "logistic regression classifier acc = 0.90004\n",
            "Decision Tree classifier acc = 0.8995466666666667\n",
            "Random Forest classifier acc = 0.90004\n"
          ],
          "name": "stdout"
        }
      ]
    },
    {
      "cell_type": "code",
      "metadata": {
        "id": "JqURMHKRTaYW"
      },
      "source": [
        "#logistic regression classifier\r\n",
        "acc = classifier(\"logistic_regression_classifier\",X_train, X_test, y_train, y_test)\r\n",
        "print(\"logistic regression classifier acc =\", acc)\r\n",
        "\r\n",
        "#Decision Tree classifier\r\n",
        "acc = classifier(\"Decision_Tree_classifier\",X_train, X_test, y_train, y_test)\r\n",
        "print(\"Decision Tree classifier acc =\", acc)\r\n",
        "\r\n",
        "#Random Forest classifier\r\n",
        "acc = classifier(\"Random_Forest_classifier\",X_train, X_test, y_train, y_test)\r\n",
        "print(\"Random Forest classifier acc =\", acc)"
      ],
      "execution_count": null,
      "outputs": []
    },
    {
      "cell_type": "code",
      "metadata": {
        "id": "IiEzE5Kn38fw",
        "colab": {
          "base_uri": "https://localhost:8080/",
          "height": 676
        },
        "outputId": "5d2986fb-ce01-457d-e34b-d9014fd70fb7"
      },
      "source": [
        "print(\"Fully connected classifier\")\r\n",
        "checkpoint_dir = os.path.dirname(\"/content/drive/MyDrive/AI_assignment4/models/derivativeModels/fc_model/model.h5\")\r\n",
        "#fc_model = train_fc_model(X_train, y_train, checkpoint_dir)\r\n",
        "fc_model = keras.models.load_model(checkpoint_dir)\r\n",
        "y_pred_ann = fc_model.predict(X_test)\r\n",
        "plot_results(y_pred_ann, y_test, snr_test)\r\n",
        "plot_confusion_matrix(y_test, y_pred_ann, mods)\r\n",
        "print_results(y_pred_ann, y_test, snr_test)\r\n"
      ],
      "execution_count": null,
      "outputs": [
        {
          "output_type": "stream",
          "text": [
            "Fully connected classifier\n"
          ],
          "name": "stdout"
        },
        {
          "output_type": "execute_result",
          "data": {
            "text/html": [
              "<div>\n",
              "<style scoped>\n",
              "    .dataframe tbody tr th:only-of-type {\n",
              "        vertical-align: middle;\n",
              "    }\n",
              "\n",
              "    .dataframe tbody tr th {\n",
              "        vertical-align: top;\n",
              "    }\n",
              "\n",
              "    .dataframe thead th {\n",
              "        text-align: right;\n",
              "    }\n",
              "</style>\n",
              "<table border=\"1\" class=\"dataframe\">\n",
              "  <thead>\n",
              "    <tr style=\"text-align: right;\">\n",
              "      <th></th>\n",
              "      <th>-20</th>\n",
              "      <th>-18</th>\n",
              "      <th>-16</th>\n",
              "      <th>-14</th>\n",
              "      <th>-12</th>\n",
              "      <th>-10</th>\n",
              "      <th>-8</th>\n",
              "      <th>-6</th>\n",
              "      <th>-4</th>\n",
              "      <th>-2</th>\n",
              "      <th>0</th>\n",
              "      <th>2</th>\n",
              "      <th>4</th>\n",
              "      <th>6</th>\n",
              "      <th>8</th>\n",
              "      <th>10</th>\n",
              "      <th>12</th>\n",
              "      <th>14</th>\n",
              "      <th>16</th>\n",
              "      <th>18</th>\n",
              "    </tr>\n",
              "  </thead>\n",
              "  <tbody>\n",
              "    <tr>\n",
              "      <th>accuracy</th>\n",
              "      <td>9.98</td>\n",
              "      <td>10.12</td>\n",
              "      <td>10.47</td>\n",
              "      <td>11.45</td>\n",
              "      <td>14.16</td>\n",
              "      <td>18.52</td>\n",
              "      <td>24.76</td>\n",
              "      <td>31.5</td>\n",
              "      <td>38.93</td>\n",
              "      <td>45.0</td>\n",
              "      <td>49.18</td>\n",
              "      <td>54.34</td>\n",
              "      <td>57.76</td>\n",
              "      <td>62.5</td>\n",
              "      <td>65.22</td>\n",
              "      <td>68.01</td>\n",
              "      <td>68.71</td>\n",
              "      <td>68.06</td>\n",
              "      <td>66.66</td>\n",
              "      <td>64.32</td>\n",
              "    </tr>\n",
              "  </tbody>\n",
              "</table>\n",
              "</div>"
            ],
            "text/plain": [
              "           -20    -18    -16    -14    -12  ...     10     12     14     16     18\n",
              "accuracy  9.98  10.12  10.47  11.45  14.16  ...  68.01  68.71  68.06  66.66  64.32\n",
              "\n",
              "[1 rows x 20 columns]"
            ]
          },
          "metadata": {
            "tags": []
          },
          "execution_count": 15
        },
        {
          "output_type": "display_data",
          "data": {
            "image/png": "[encoded data removed]",
            "text/plain": [
              "<Figure size 432x288 with 1 Axes>"
            ]
          },
          "metadata": {
            "tags": [],
            "needs_background": "light"
          }
        },
        {
          "output_type": "display_data",
          "data": {
            "image/png": "[encoded data removed]",
            "text/plain": [
              "<Figure size 432x288 with 2 Axes>"
            ]
          },
          "metadata": {
            "tags": [],
            "needs_background": "light"
          }
        }
      ]
    },
    {
      "cell_type": "code",
      "metadata": {
        "id": "Qe0VsLAy4DgN",
        "colab": {
          "base_uri": "https://localhost:8080/",
          "height": 659
        },
        "outputId": "a448c26c-d3be-4138-a017-1e8f749f23ab"
      },
      "source": [
        "checkpoint_path = \"/content/drive/MyDrive/AI_assignment4/models/derivativeModels/cnn_model/model.h5\"\r\n",
        "checkpoint_dir = os.path.dirname(checkpoint_path)\r\n",
        "cnn_model = keras.models.load_model(checkpoint_dir)\r\n",
        "y_pred_cnn = cnn_model.predict(X_test)\r\n",
        "plot_results(y_pred_cnn, y_test, snr_test)\r\n",
        "plot_confusion_matrix(y_test, y_pred_cnn, mods)\r\n",
        "print_results(y_pred_cnn, y_test, snr_test)"
      ],
      "execution_count": null,
      "outputs": [
        {
          "output_type": "execute_result",
          "data": {
            "text/html": [
              "<div>\n",
              "<style scoped>\n",
              "    .dataframe tbody tr th:only-of-type {\n",
              "        vertical-align: middle;\n",
              "    }\n",
              "\n",
              "    .dataframe tbody tr th {\n",
              "        vertical-align: top;\n",
              "    }\n",
              "\n",
              "    .dataframe thead th {\n",
              "        text-align: right;\n",
              "    }\n",
              "</style>\n",
              "<table border=\"1\" class=\"dataframe\">\n",
              "  <thead>\n",
              "    <tr style=\"text-align: right;\">\n",
              "      <th></th>\n",
              "      <th>-20</th>\n",
              "      <th>-18</th>\n",
              "      <th>-16</th>\n",
              "      <th>-14</th>\n",
              "      <th>-12</th>\n",
              "      <th>-10</th>\n",
              "      <th>-8</th>\n",
              "      <th>-6</th>\n",
              "      <th>-4</th>\n",
              "      <th>-2</th>\n",
              "      <th>0</th>\n",
              "      <th>2</th>\n",
              "      <th>4</th>\n",
              "      <th>6</th>\n",
              "      <th>8</th>\n",
              "      <th>10</th>\n",
              "      <th>12</th>\n",
              "      <th>14</th>\n",
              "      <th>16</th>\n",
              "      <th>18</th>\n",
              "    </tr>\n",
              "  </thead>\n",
              "  <tbody>\n",
              "    <tr>\n",
              "      <th>accuracy</th>\n",
              "      <td>9.92</td>\n",
              "      <td>10.21</td>\n",
              "      <td>10.71</td>\n",
              "      <td>10.28</td>\n",
              "      <td>12.27</td>\n",
              "      <td>15.14</td>\n",
              "      <td>19.43</td>\n",
              "      <td>26.05</td>\n",
              "      <td>34.84</td>\n",
              "      <td>44.51</td>\n",
              "      <td>51.64</td>\n",
              "      <td>58.78</td>\n",
              "      <td>65.07</td>\n",
              "      <td>70.1</td>\n",
              "      <td>70.81</td>\n",
              "      <td>71.04</td>\n",
              "      <td>70.23</td>\n",
              "      <td>69.99</td>\n",
              "      <td>68.64</td>\n",
              "      <td>68.44</td>\n",
              "    </tr>\n",
              "  </tbody>\n",
              "</table>\n",
              "</div>"
            ],
            "text/plain": [
              "           -20    -18    -16    -14    -12  ...     10     12     14     16     18\n",
              "accuracy  9.92  10.21  10.71  10.28  12.27  ...  71.04  70.23  69.99  68.64  68.44\n",
              "\n",
              "[1 rows x 20 columns]"
            ]
          },
          "metadata": {
            "tags": []
          },
          "execution_count": 17
        },
        {
          "output_type": "display_data",
          "data": {
            "image/png": "[encoded data removed]",
            "text/plain": [
              "<Figure size 432x288 with 1 Axes>"
            ]
          },
          "metadata": {
            "tags": [],
            "needs_background": "light"
          }
        },
        {
          "output_type": "display_data",
          "data": {
            "image/png": "[encoded data removed]",
            "text/plain": [
              "<Figure size 432x288 with 2 Axes>"
            ]
          },
          "metadata": {
            "tags": [],
            "needs_background": "light"
          }
        }
      ]
    },
    {
      "cell_type": "code",
      "metadata": {
        "id": "56gBrP1z4I2k",
        "colab": {
          "base_uri": "https://localhost:8080/"
        },
        "outputId": "f69a4fe9-efe0-49b1-f239-d3e9c0c3439d"
      },
      "source": [
        "#del(fc_model)\r\n",
        "#del(y_pred_ann)\r\n",
        "#del(cnn_model)\r\n",
        "#del(y_pred_cnn)\r\n",
        "del(X_train)\r\n",
        "del(X_test)\r\n",
        "del(y_test)\r\n",
        "del(y_train)\r\n",
        "del(der_data)\r\n",
        "gc.collect()"
      ],
      "execution_count": null,
      "outputs": [
        {
          "output_type": "execute_result",
          "data": {
            "text/plain": [
              "0"
            ]
          },
          "metadata": {
            "tags": []
          },
          "execution_count": 16
        }
      ]
    },
    {
      "cell_type": "markdown",
      "metadata": {
        "id": "tt7w4CAo4V9q"
      },
      "source": [
        "## test integral data"
      ]
    },
    {
      "cell_type": "markdown",
      "metadata": {
        "id": "iijUkHQIYGHw"
      },
      "source": [
        ""
      ]
    },
    {
      "cell_type": "code",
      "metadata": {
        "id": "DpbdjNDH4aZY"
      },
      "source": [
        "int_data = extract_features('integral')\r\n",
        "X_train, X_test, y_train, y_test, snr_train, snr_test = split_data(int_data)  "
      ],
      "execution_count": null,
      "outputs": []
    },
    {
      "cell_type": "code",
      "metadata": {
        "colab": {
          "base_uri": "https://localhost:8080/"
        },
        "id": "jkf7DKp4UaLs",
        "outputId": "42400415-5f2c-4f0a-abca-d3c988fc0a4f"
      },
      "source": [
        "work_on_data(X_train, X_test, y_train, y_test)"
      ],
      "execution_count": null,
      "outputs": [
        {
          "output_type": "stream",
          "text": [
            "/usr/local/lib/python3.6/dist-packages/sklearn/linear_model/_logistic.py:940: ConvergenceWarning: lbfgs failed to converge (status=1):\n",
            "STOP: TOTAL NO. of ITERATIONS REACHED LIMIT.\n",
            "\n",
            "Increase the number of iterations (max_iter) or scale the data as shown in:\n",
            "    https://scikit-learn.org/stable/modules/preprocessing.html\n",
            "Please also refer to the documentation for alternative solver options:\n",
            "    https://scikit-learn.org/stable/modules/linear_model.html#logistic-regression\n",
            "  extra_warning_msg=_LOGISTIC_SOLVER_CONVERGENCE_MSG)\n"
          ],
          "name": "stderr"
        },
        {
          "output_type": "stream",
          "text": [
            "logistic regression classifier acc = 0.90004\n",
            "Decision Tree classifier acc = 0.8987933333333333\n",
            "Random Forest classifier acc = 0.90004\n"
          ],
          "name": "stdout"
        }
      ]
    },
    {
      "cell_type": "code",
      "metadata": {
        "id": "SkQSjovl4nLT",
        "colab": {
          "base_uri": "https://localhost:8080/",
          "height": 676
        },
        "outputId": "4537730c-35c8-41f7-cba9-7fbd5a2ea7b7"
      },
      "source": [
        "print(\"Fully connected classifier\")\r\n",
        "checkpoint_dir = os.path.dirname(\"/content/drive/MyDrive/AI_assignment4/models/integralModels/fc_model/model.h5\")\r\n",
        "#fc_model = train_fc_model(X_train, y_train, checkpoint_dir)\r\n",
        "fc_model = keras.models.load_model(checkpoint_dir)\r\n",
        "y_pred_ann = fc_model.predict(X_test)\r\n",
        "plot_results(y_pred_ann, y_test, snr_test)\r\n",
        "plot_confusion_matrix(y_test, y_pred_ann, mods)\r\n",
        "print_results(y_pred_ann, y_test, snr_test)"
      ],
      "execution_count": null,
      "outputs": [
        {
          "output_type": "stream",
          "text": [
            "Fully connected classifier\n"
          ],
          "name": "stdout"
        },
        {
          "output_type": "execute_result",
          "data": {
            "text/html": [
              "<div>\n",
              "<style scoped>\n",
              "    .dataframe tbody tr th:only-of-type {\n",
              "        vertical-align: middle;\n",
              "    }\n",
              "\n",
              "    .dataframe tbody tr th {\n",
              "        vertical-align: top;\n",
              "    }\n",
              "\n",
              "    .dataframe thead th {\n",
              "        text-align: right;\n",
              "    }\n",
              "</style>\n",
              "<table border=\"1\" class=\"dataframe\">\n",
              "  <thead>\n",
              "    <tr style=\"text-align: right;\">\n",
              "      <th></th>\n",
              "      <th>-20</th>\n",
              "      <th>-18</th>\n",
              "      <th>-16</th>\n",
              "      <th>-14</th>\n",
              "      <th>-12</th>\n",
              "      <th>-10</th>\n",
              "      <th>-8</th>\n",
              "      <th>-6</th>\n",
              "      <th>-4</th>\n",
              "      <th>-2</th>\n",
              "      <th>0</th>\n",
              "      <th>2</th>\n",
              "      <th>4</th>\n",
              "      <th>6</th>\n",
              "      <th>8</th>\n",
              "      <th>10</th>\n",
              "      <th>12</th>\n",
              "      <th>14</th>\n",
              "      <th>16</th>\n",
              "      <th>18</th>\n",
              "    </tr>\n",
              "  </thead>\n",
              "  <tbody>\n",
              "    <tr>\n",
              "      <th>accuracy</th>\n",
              "      <td>10.72</td>\n",
              "      <td>10.64</td>\n",
              "      <td>12.07</td>\n",
              "      <td>14.05</td>\n",
              "      <td>18.58</td>\n",
              "      <td>24.2</td>\n",
              "      <td>31.13</td>\n",
              "      <td>37.36</td>\n",
              "      <td>46.14</td>\n",
              "      <td>52.84</td>\n",
              "      <td>57.91</td>\n",
              "      <td>61.33</td>\n",
              "      <td>62.96</td>\n",
              "      <td>64.1</td>\n",
              "      <td>63.16</td>\n",
              "      <td>63.23</td>\n",
              "      <td>63.19</td>\n",
              "      <td>63.14</td>\n",
              "      <td>62.84</td>\n",
              "      <td>62.78</td>\n",
              "    </tr>\n",
              "  </tbody>\n",
              "</table>\n",
              "</div>"
            ],
            "text/plain": [
              "            -20    -18    -16    -14    -12  ...     10     12     14     16     18\n",
              "accuracy  10.72  10.64  12.07  14.05  18.58  ...  63.23  63.19  63.14  62.84  62.78\n",
              "\n",
              "[1 rows x 20 columns]"
            ]
          },
          "metadata": {
            "tags": []
          },
          "execution_count": 21
        },
        {
          "output_type": "display_data",
          "data": {
            "image/png": "[encoded data removed]",
            "text/plain": [
              "<Figure size 432x288 with 1 Axes>"
            ]
          },
          "metadata": {
            "tags": [],
            "needs_background": "light"
          }
        },
        {
          "output_type": "display_data",
          "data": {
            "image/png": "[encoded data removed]",
            "text/plain": [
              "<Figure size 432x288 with 2 Axes>"
            ]
          },
          "metadata": {
            "tags": [],
            "needs_background": "light"
          }
        }
      ]
    },
    {
      "cell_type": "code",
      "metadata": {
        "id": "_zcrPisV4pCI",
        "colab": {
          "base_uri": "https://localhost:8080/",
          "height": 659
        },
        "outputId": "5a52b26a-c0d4-4743-dd4d-b041ebb0d713"
      },
      "source": [
        "checkpoint_path = \"/content/drive/MyDrive/AI_assignment4/models/integralModels/cnn_model/model.h5\"\r\n",
        "checkpoint_dir = os.path.dirname(checkpoint_path)\r\n",
        "cnn_model = keras.models.load_model(checkpoint_dir)\r\n",
        "y_pred_cnn = cnn_model.predict(X_test)\r\n",
        "plot_results(y_pred_cnn, y_test, snr_test)\r\n",
        "plot_confusion_matrix(y_test, y_pred_cnn, mods)\r\n",
        "print_results(y_pred_cnn, y_test, snr_test)"
      ],
      "execution_count": null,
      "outputs": [
        {
          "output_type": "execute_result",
          "data": {
            "text/html": [
              "<div>\n",
              "<style scoped>\n",
              "    .dataframe tbody tr th:only-of-type {\n",
              "        vertical-align: middle;\n",
              "    }\n",
              "\n",
              "    .dataframe tbody tr th {\n",
              "        vertical-align: top;\n",
              "    }\n",
              "\n",
              "    .dataframe thead th {\n",
              "        text-align: right;\n",
              "    }\n",
              "</style>\n",
              "<table border=\"1\" class=\"dataframe\">\n",
              "  <thead>\n",
              "    <tr style=\"text-align: right;\">\n",
              "      <th></th>\n",
              "      <th>-20</th>\n",
              "      <th>-18</th>\n",
              "      <th>-16</th>\n",
              "      <th>-14</th>\n",
              "      <th>-12</th>\n",
              "      <th>-10</th>\n",
              "      <th>-8</th>\n",
              "      <th>-6</th>\n",
              "      <th>-4</th>\n",
              "      <th>-2</th>\n",
              "      <th>0</th>\n",
              "      <th>2</th>\n",
              "      <th>4</th>\n",
              "      <th>6</th>\n",
              "      <th>8</th>\n",
              "      <th>10</th>\n",
              "      <th>12</th>\n",
              "      <th>14</th>\n",
              "      <th>16</th>\n",
              "      <th>18</th>\n",
              "    </tr>\n",
              "  </thead>\n",
              "  <tbody>\n",
              "    <tr>\n",
              "      <th>accuracy</th>\n",
              "      <td>10.47</td>\n",
              "      <td>10.54</td>\n",
              "      <td>11.15</td>\n",
              "      <td>13.12</td>\n",
              "      <td>16.54</td>\n",
              "      <td>24.62</td>\n",
              "      <td>32.82</td>\n",
              "      <td>41.11</td>\n",
              "      <td>51.4</td>\n",
              "      <td>60.6</td>\n",
              "      <td>67.01</td>\n",
              "      <td>71.55</td>\n",
              "      <td>73.62</td>\n",
              "      <td>75.38</td>\n",
              "      <td>74.85</td>\n",
              "      <td>74.74</td>\n",
              "      <td>74.96</td>\n",
              "      <td>74.85</td>\n",
              "      <td>74.6</td>\n",
              "      <td>74.78</td>\n",
              "    </tr>\n",
              "  </tbody>\n",
              "</table>\n",
              "</div>"
            ],
            "text/plain": [
              "            -20    -18    -16    -14    -12  ...     10     12     14    16     18\n",
              "accuracy  10.47  10.54  11.15  13.12  16.54  ...  74.74  74.96  74.85  74.6  74.78\n",
              "\n",
              "[1 rows x 20 columns]"
            ]
          },
          "metadata": {
            "tags": []
          },
          "execution_count": 22
        },
        {
          "output_type": "display_data",
          "data": {
            "image/png": "[encoded data removed]",
            "text/plain": [
              "<Figure size 432x288 with 1 Axes>"
            ]
          },
          "metadata": {
            "tags": [],
            "needs_background": "light"
          }
        },
        {
          "output_type": "display_data",
          "data": {
            "image/png": "[encoded data removed]",
            "text/plain": [
              "<Figure size 432x288 with 2 Axes>"
            ]
          },
          "metadata": {
            "tags": [],
            "needs_background": "light"
          }
        }
      ]
    },
    {
      "cell_type": "code",
      "metadata": {
        "id": "8q4ReDQ14rVs"
      },
      "source": [
        "del(fc_model)\r\n",
        "del(cnn_model)\r\n",
        "del(y_pred_ann)\r\n",
        "del(cnn_model)\r\n",
        "del(y_pred_cnn)\r\n",
        "del(X_train)\r\n",
        "del(X_test)\r\n",
        "del(y_test)\r\n",
        "del(y_train)\r\n",
        "del(int_data)\r\n",
        "gc.collect()"
      ],
      "execution_count": null,
      "outputs": []
    },
    {
      "cell_type": "markdown",
      "metadata": {
        "id": "PKYHcjx6Uerv"
      },
      "source": [
        "## test combination data"
      ]
    },
    {
      "cell_type": "code",
      "metadata": {
        "id": "dzzyNyQqUjCi"
      },
      "source": [
        "comb_data = extract_features('raw', 'integral')\r\n",
        "X_train, X_test, y_train, y_test, snr_train, snr_test = split_data(comb_data)  "
      ],
      "execution_count": null,
      "outputs": []
    },
    {
      "cell_type": "code",
      "metadata": {
        "colab": {
          "base_uri": "https://localhost:8080/"
        },
        "id": "aJyCb6-QZqGS",
        "outputId": "d91c73cc-839b-483a-a31e-78619fe5f71d"
      },
      "source": [
        "checkpoint_dir = os.path.dirname( \"/content/drive/MyDrive/AI_assignment4/models/combinationModels/cnn_model/model.h5\")\r\n",
        "cnn_model = train_cnn_model(X_train, y_train, checkpoint_dir)\r\n",
        "y_pred_cnn = cnn_model.predict(X_test)\r\n",
        "plot_results(y_pred_cnn, y_test, snr_test)\r\n",
        "plot_confusion_matrix(y_test, y_pred_cnn, mods)\r\n",
        "print_results(y_pred_cnn, y_test, snr_test)"
      ],
      "execution_count": null,
      "outputs": [
        {
          "output_type": "stream",
          "text": [
            "Model: \"sequential\"\n",
            "_________________________________________________________________\n",
            "Layer (type)                 Output Shape              Param #   \n",
            "=================================================================\n",
            "reshape (Reshape)            (None, 4, 128, 1)         0         \n",
            "_________________________________________________________________\n",
            "conv2d (Conv2D)              (None, 4, 126, 64)        256       \n",
            "_________________________________________________________________\n",
            "conv2d_1 (Conv2D)            (None, 3, 124, 16)        6160      \n",
            "_________________________________________________________________\n",
            "flatten (Flatten)            (None, 5952)              0         \n",
            "_________________________________________________________________\n",
            "dense (Dense)                (None, 128)               761984    \n",
            "_________________________________________________________________\n",
            "dense_1 (Dense)              (None, 10)                1290      \n",
            "=================================================================\n",
            "Total params: 769,690\n",
            "Trainable params: 769,690\n",
            "Non-trainable params: 0\n",
            "_________________________________________________________________\n",
            "Epoch 1/80\n"
          ],
          "name": "stdout"
        }
      ]
    },
    {
      "cell_type": "code",
      "metadata": {
        "id": "VPqOdAUqVnXP"
      },
      "source": [
        "work_on_data(comb_data)"
      ],
      "execution_count": null,
      "outputs": []
    },
    {
      "cell_type": "code",
      "metadata": {
        "id": "NqMLD8Q5Vp5d"
      },
      "source": [
        "print(\"Fully connected classifier\")\r\n",
        "checkpoint_dir = os.path.dirname(\"/content/drive/MyDrive/AI_assignment4/models/combinationModels/fc_model/model.h5\")\r\n",
        "#fc_model = train_fc_model(X_train, y_train, checkpoint_dir)\r\n",
        "fc_model = keras.models.load_model(checkpoint_dir)\r\n",
        "y_pred_ann = fc_model.predict(X_test)\r\n",
        "plot_results(y_pred_ann, y_test, snr_test)\r\n",
        "plot_confusion_matrix(y_test, y_pred_ann, mods)\r\n",
        "print_results(y_pred_ann, y_test, snr_test)"
      ],
      "execution_count": null,
      "outputs": []
    },
    {
      "cell_type": "code",
      "metadata": {
        "id": "3xxJHd3fWAKA"
      },
      "source": [
        "checkpoint_dir = os.path.dirname( \"/content/drive/MyDrive/AI_assignment4/models/combinationModels/cnn_model/model.h5\")\r\n",
        "cnn_model = keras.models.load_model(checkpoint_dir)\r\n",
        "y_pred_cnn = cnn_model.predict(X_test)\r\n",
        "plot_results(y_pred_cnn, y_test, snr_test)\r\n",
        "plot_confusion_matrix(y_test, y_pred_cnn, mods)\r\n",
        "print_results(y_pred_cnn, y_test, snr_test)"
      ],
      "execution_count": null,
      "outputs": []
    },
    {
      "cell_type": "code",
      "metadata": {
        "id": "Gv4x9ilCWAyH"
      },
      "source": [
        "del(fc_model)\r\n",
        "del(y_pred_ann)\r\n",
        "del(cnn_model)\r\n",
        "del(y_pred_cnn)\r\n",
        "del(X_train)\r\n",
        "del(X_test)\r\n",
        "del(y_test)\r\n",
        "del(y_train)\r\n",
        "del(comb_data)\r\n",
        "gc.collect()"
      ],
      "execution_count": null,
      "outputs": []
    }
  ]
}